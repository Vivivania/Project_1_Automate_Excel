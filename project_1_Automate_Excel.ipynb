{
 "cells": [
  {
   "cell_type": "code",
   "execution_count": 2,
   "metadata": {},
   "outputs": [],
   "source": [
    "import pandas as pd \n",
    "import openpyxl\n",
    "from openpyxl import load_workbook\n",
    "from openpyxl.styles import fonts\n",
    "from openpyxl.chart import BarChart, reference\n",
    "import string "
   ]
  },
  {
   "cell_type": "code",
   "execution_count": 3,
   "metadata": {},
   "outputs": [
    {
     "name": "stdout",
     "output_type": "stream",
     "text": [
      "     Gender            Product line      Total\n",
      "0    Female       Health and beauty   548.9715\n",
      "1    Female  Electronic accessories    80.2200\n",
      "2      Male      Home and lifestyle   340.5255\n",
      "3      Male       Health and beauty   489.0480\n",
      "4      Male       Sports and travel   634.3785\n",
      "..      ...                     ...        ...\n",
      "995    Male       Health and beauty    42.3675\n",
      "996  Female      Home and lifestyle  1022.4900\n",
      "997    Male      Food and beverages    33.4320\n",
      "998    Male      Home and lifestyle    69.1110\n",
      "999  Female     Fashion accessories   649.2990\n",
      "\n",
      "[1000 rows x 3 columns]\n"
     ]
    }
   ],
   "source": [
    "excel_file = pd.read_csv('/home/dataengineering/Desktop/digitalskola/dataset/sales_2021.csv')\n",
    "excel_file[['Gender','Product line','Total']]\n",
    "print(excel_file[['Gender','Product line','Total']])"
   ]
  },
  {
   "cell_type": "code",
   "execution_count": 4,
   "metadata": {},
   "outputs": [
    {
     "name": "stdout",
     "output_type": "stream",
     "text": [
      "Product line  Electronic accessories  Fashion accessories  Food and beverages  \\\n",
      "Gender                                                                          \n",
      "Female                       27102.0              30437.0             33171.0   \n",
      "Male                         27236.0              23868.0             22974.0   \n",
      "\n",
      "Product line  Health and beauty  Home and lifestyle  Sports and travel  \n",
      "Gender                                                                  \n",
      "Female                  18561.0             30037.0            28575.0  \n",
      "Male                    30633.0             23825.0            26548.0  \n"
     ]
    }
   ],
   "source": [
    "#Pivot table\n",
    "report_table = excel_file.pivot_table(index='Gender', columns='Product line', values='Total',aggfunc='sum').round(0)\n",
    "\n",
    "print(report_table)"
   ]
  },
  {
   "cell_type": "code",
   "execution_count": 5,
   "metadata": {},
   "outputs": [],
   "source": [
    "report_table.to_excel('report_2021.xlsx', sheet_name='Report',startrow=4)"
   ]
  },
  {
   "cell_type": "code",
   "execution_count": 6,
   "metadata": {},
   "outputs": [
    {
     "name": "stdout",
     "output_type": "stream",
     "text": [
      "Min Column 1\n",
      "Max Column 7\n",
      "Min Row 5\n",
      "Max Row 7\n"
     ]
    }
   ],
   "source": [
    "wb = load_workbook('report_2021.xlsx')\n",
    "min_column = wb.active.min_column\n",
    "max_column = wb.active.max_column\n",
    "min_row = wb.active.min_row\n",
    "max_row = wb.active.max_row\n",
    "\n",
    "print(\"Min Column\" '',min_column)\n",
    "print(\"Max Column\" '',max_column)\n",
    "print(\"Min Row\"'',min_row)\n",
    "print(\"Max Row\"'',max_row)"
   ]
  },
  {
   "cell_type": "code",
   "execution_count": 14,
   "metadata": {},
   "outputs": [],
   "source": [
    "import openpyxl\n",
    "from openpyxl import load_workbook\n",
    "from openpyxl.styles import fonts\n",
    "from openpyxl.chart import BarChart, Reference\n",
    "\n",
    "wb = load_workbook('report_2021.xlsx')\n",
    "sheet = wb['Report']\n",
    "# formatting the report\n",
    "sheet['A1'] = 'Sales Report'\n",
    "sheet['A2'] = '2021'\n",
    "sheet['A1'].font = Font('Arial', bold=True, size=20)\n",
    "sheet['A2'].font = Font('Arial', bold=True, size=12)\n",
    "\n",
    "#adding a chart\n",
    "barchart = BarChart()\n",
    "\n",
    "data = Reference(sheet, min_col=min_column+1, max_col=max_column, min_row=min_row, max_row=max_row) #including headers\n",
    "categories = Reference(sheet, min_col=min_column, max_col=min_column, min_row=min_row+1, max_row=max_row) #not including headers\n",
    "   \n",
    "barchart.add_data(data, titles_from_data=True)\n",
    "barchart.set_categories(categories)\n",
    "\n",
    "#location chart\n",
    "sheet.add_chart(barchart, \"B12\") \n",
    "sheet.title = 'Sales by Product line'\n",
    "barchart = 2\n",
    "wb.save('report_wchart.xlsx')\n"
   ]
  },
  {
   "cell_type": "code",
   "execution_count": 12,
   "metadata": {},
   "outputs": [
    {
     "name": "stdout",
     "output_type": "stream",
     "text": [
      "['A', 'B', 'C', 'D', 'E', 'F', 'G']\n"
     ]
    }
   ],
   "source": [
    "import string\n",
    "import openpyxl\n",
    "from openpyxl import load_workbook\n",
    "from openpyxl.styles import Font\n",
    "\n",
    "wb = load_workbook('report_2021.xlsx')\n",
    "sheet = wb['Report']\n",
    "\n",
    "# applying formulas\n",
    "# first create alphabet list as references for cells\n",
    "alphabet = list(string.ascii_uppercase)\n",
    "excel_alphabet = alphabet[0:max_column] \n",
    "print(excel_alphabet)\n",
    "#note: Python lists start on 0 -> A=0, B=1, C=2. \n",
    "#note2 the [a:b] takes b-a elements\n",
    "\n",
    "#Applying sum \n",
    "for i in excel_alphabet:\n",
    "         if i!='A':\n",
    "             sheet[f'{i}{max_row+1}'] = f'=SUM({i}{min_row+1}:{i}{max_row})'\n",
    "             sheet[f'{i}{max_row+1}'].style = 'Currency'\n",
    "sheet[f'{excel_alphabet[0]}{max_row+1}'] = 'Total'\n",
    "sheet[f'{excel_alphabet[0]}{max_row+1}'].font = Font(bold=True)\n",
    "wb.save('report_2021.xlsx')"
   ]
  },
  {
   "cell_type": "code",
   "execution_count": 15,
   "metadata": {},
   "outputs": [],
   "source": [
    "def automate_excel(file_name):\n",
    "    \"\"\"The file name should have the following structure: sales_month.xlsx\"\"\"\n",
    "    \n",
    "    # read excel file\n",
    "    excel_file = pd.read_excel(file_name)\n",
    "\n",
    "    \n",
    "    # make pivot table\n",
    "    report_table = excel_file.pivot_table(index='Gender', columns='Product line', values='Total', aggfunc='sum').round(0)\n",
    "    \n",
    "    # splitting the month and extension from the file name\n",
    "    month_and_extension = file_name.split('_')[1]\n",
    "   \n",
    "    # send the report table to excel file\n",
    "    report_table.to_excel(f'report_{month_and_extension}', sheet_name='Report', startrow=4)\n",
    "    \n",
    "    # loading workbook and selecting sheet\n",
    "    wb = load_workbook(f'report_{month_and_extension}')\n",
    "    sheet = wb['Report']\n",
    "    \n",
    "    # cell references (original spreadsheet)\n",
    "    min_column = wb.active.min_column\n",
    "    max_column = wb.active.max_column\n",
    "    min_row = wb.active.min_row\n",
    "    max_row = wb.active.max_row\n",
    "    \n",
    "    # adding a chart\n",
    "    barchart = BarChart()\n",
    "    data = Reference(sheet, min_col=min_column+1, max_col=max_column, min_row=min_row, max_row=max_row) #including headers\n",
    "    categories = Reference(sheet, min_col=min_column, max_col=min_column, min_row=min_row+1, max_row=max_row) #not including headers\n",
    "    barchart.add_data(data, titles_from_data=True)\n",
    "    barchart.set_categories(categories)\n",
    "    sheet.add_chart(barchart, \"B12\") #location chart\n",
    "    barchart.title = 'Sales by Product line'\n",
    "    barchart.style = 2 #choose the chart style\n",
    "    \n",
    "    # applying formulas\n",
    "    # first create alphabet list as references for cells\n",
    "    alphabet = list(string.ascii_uppercase)\n",
    "    excel_alphabet = alphabet[0:max_column] #note: Python lists start on 0 -> A=0, B=1, C=2. #note2 the [a:b] takes b-a elements\n",
    "    \n",
    "    # sum in columns B-G\n",
    "    for i in excel_alphabet:\n",
    "        if i!='A':\n",
    "            sheet[f'{i}{max_row+1}'] = f'=SUM({i}{min_row+1}:{i}{max_row})'\n",
    "            sheet[f'{i}{max_row+1}'].style = 'Currency'\n",
    "    sheet[f'{excel_alphabet[0]}{max_row+1}'] = 'Total'\n",
    "    \n",
    "    # getting month name\n",
    "    month_name = month_and_extension.split('.')[0]\n",
    "    \n",
    "    # formatting the report\n",
    "    sheet['A1'] = 'Sales Report'\n",
    "    sheet['A2'] = month_name.title()\n",
    "    sheet['A1'].font = Font('Arial', bold=True, size=20)\n",
    "    sheet['A2'].font = Font('Arial', bold=True, size=10)\n",
    "    wb.save(f'report_{month_and_extension}')\n",
    "    "
   ]
  },
  {
   "cell_type": "code",
   "execution_count": 19,
   "metadata": {},
   "outputs": [],
   "source": [
    "automate_excel(\"sales_2021.xlsx\")"
   ]
  }
 ],
 "metadata": {
  "kernelspec": {
   "display_name": "Python 3.9.12 ('base')",
   "language": "python",
   "name": "python3"
  },
  "language_info": {
   "codemirror_mode": {
    "name": "ipython",
    "version": 3
   },
   "file_extension": ".py",
   "mimetype": "text/x-python",
   "name": "python",
   "nbconvert_exporter": "python",
   "pygments_lexer": "ipython3",
   "version": "3.9.12"
  },
  "orig_nbformat": 4,
  "vscode": {
   "interpreter": {
    "hash": "bfda67b6c2396b9503aecf64b498a9acf9ecd1f0e67335567bed7b9634286233"
   }
  }
 },
 "nbformat": 4,
 "nbformat_minor": 2
}
